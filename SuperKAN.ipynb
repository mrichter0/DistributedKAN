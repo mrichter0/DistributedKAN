{
 "cells": [
  {
   "cell_type": "code",
   "execution_count": null,
   "id": "71ad0d06-de01-4627-806c-e788bcc8d1ff",
   "metadata": {},
   "outputs": [],
   "source": [
    "##load data\n",
    "import os\n",
    "import pickle\n",
    "import pandas as pd\n",
    "import numpy as np\n",
    "import torch\n",
    "import torch.nn as nn\n",
    "import torch.optim as optim\n",
    "import time\n",
    "import gc\n",
    "print('Loading data...', flush=True)\n",
    "dataset_path = '/data/home/mrichte3/DTIAM/code/5-20-24/'\n",
    "thread_num = 64\n",
    "os.environ['OMP_NUM_THREADS'] = '64'\n",
    "batch_size = 128\n",
    "comp_features_train = []\n",
    "training_length = 45000000\n",
    "test_length = training_length // 10\n",
    "for i in range(17):\n",
    "    file_name = os.path.join(dataset_path, f'train_fold_smiles.csvcomp_feat_{i}.pkl')\n",
    "    with open(file_name, 'rb') as file:\n",
    "        comp_feat = pickle.load(file)\n",
    "        comp_features_train.extend(comp_feat)\n",
    "    print(f\"File {i}: {file_name}, Number of entries: {len(comp_feat)}\")\n",
    "    if len(comp_features_train) >= training_length:\n",
    "        break\n",
    "    gc.collect()\n",
    "comp_features_train = comp_features_train[:training_length]\n",
    "train_data = np.array(comp_features_train, dtype=np.float32)\n",
    "train_labels = pd.read_csv(os.path.join(dataset_path, 'train_fold_0.csv'))['label'].values[:training_length]\n",
    "pos_weight = len(train_labels) / (train_labels == 1).sum()\n",
    "print(pos_weight)\n",
    "train_data_tensor = torch.tensor(train_data, dtype=torch.float32)\n",
    "train_labels_tensor = torch.tensor(train_labels, dtype=torch.long)\n",
    "train_dataset = torch.utils.data.TensorDataset(train_data_tensor, train_labels_tensor)\n",
    "train_loader = torch.utils.data.DataLoader(train_dataset, batch_size=batch_size, shuffle=True, num_workers=thread_num)\n",
    "del comp_features_train, train_data, train_data_tensor, train_labels_tensor\n",
    "gc.collect()\n",
    "file_name = os.path.join(dataset_path, 'test_fold_smiles.csvcomp_feat_0.pkl')\n",
    "with open(file_name, 'rb') as file:\n",
    "    comp_features_test = pickle.load(file)\n",
    "test_data = np.array(comp_features_test, dtype=np.float32)[:test_length]\n",
    "test_labels = pd.read_csv(os.path.join(dataset_path, 'test_fold_0.csv'))['label'].values[:test_length]\n",
    "test_data_tensor = torch.tensor(test_data, dtype=torch.float32)\n",
    "test_labels_tensor = torch.tensor(test_labels, dtype=torch.long)\n",
    "test_dataset = torch.utils.data.TensorDataset(test_data_tensor, test_labels_tensor)\n",
    "test_loader = torch.utils.data.DataLoader(test_dataset, batch_size=batch_size, shuffle=False, num_workers=thread_num)\n",
    "del comp_features_test, test_data, test_data_tensor, test_labels_tensor\n",
    "gc.collect()\n",
    "print('Data loaded. Starting model...', flush=True)\n"
   ]
  },
  {
   "cell_type": "code",
   "execution_count": null,
   "id": "740636c0-3b45-4a88-bdec-55a3ede4f9b4",
   "metadata": {
    "jupyter": {
     "source_hidden": true
    }
   },
   "outputs": [],
   "source": [
    "import importlib\n",
    "import distributed_training10  # Import the module first\n",
    "\n",
    "importlib.reload(distributed_training10)\n",
    "from distributed_training10 import main\n",
    "\n",
    "main(train_loader, test_loader, pos_weight)\n",
    "#main(train_loader, test_loader, thread_num)\n",
    "#main(train_loader, test_loader)"
   ]
  }
 ],
 "metadata": {
  "kernelspec": {
   "display_name": "Python 3 (ipykernel)",
   "language": "python",
   "name": "python3"
  },
  "language_info": {
   "codemirror_mode": {
    "name": "ipython",
    "version": 3
   },
   "file_extension": ".py",
   "mimetype": "text/x-python",
   "name": "python",
   "nbconvert_exporter": "python",
   "pygments_lexer": "ipython3",
   "version": "3.12.2"
  }
 },
 "nbformat": 4,
 "nbformat_minor": 5
}
